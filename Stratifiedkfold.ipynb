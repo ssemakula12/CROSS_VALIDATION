{
 "cells": [
  {
   "cell_type": "code",
   "execution_count": 3,
   "metadata": {},
   "outputs": [],
   "source": [
    "#PERFORMING STRATIFIED KFOLD CROSS-VALIDATION\n",
    "import numpy as np\n",
    "from sklearn.datasets import make_classification\n",
    "from sklearn.model_selection import StratifiedKFold,cross_val_score\n",
    "from sklearn.ensemble import RandomForestClassifier"
   ]
  },
  {
   "cell_type": "code",
   "execution_count": 4,
   "metadata": {},
   "outputs": [],
   "source": [
    "#CREATE AN IMBALANCED DATASET;\n",
    "X,y = make_classification(n_samples=100,n_features=5,weights=[0.8,0.2],random_state=42)\n"
   ]
  },
  {
   "cell_type": "code",
   "execution_count": 5,
   "metadata": {},
   "outputs": [],
   "source": [
    "#initialize the model;\n",
    "model = RandomForestClassifier()\n"
   ]
  },
  {
   "cell_type": "code",
   "execution_count": 6,
   "metadata": {},
   "outputs": [],
   "source": [
    "#SETUP STRATIFIED K-FOLD;\n",
    "skf = StratifiedKFold(n_splits=5,shuffle=True,random_state=42)\n"
   ]
  },
  {
   "cell_type": "code",
   "execution_count": 7,
   "metadata": {},
   "outputs": [
    {
     "data": {
      "text/plain": [
       "array([1.  , 1.  , 0.95, 0.95, 1.  ])"
      ]
     },
     "execution_count": 7,
     "metadata": {},
     "output_type": "execute_result"
    }
   ],
   "source": [
    "#PERFORM STRATIFIED KFOLD EVALUATION PERFORMANCE;\n",
    "scores = cross_val_score(model,X,y,cv=skf,scoring=\"accuracy\")\n",
    "scores"
   ]
  },
  {
   "cell_type": "code",
   "execution_count": null,
   "metadata": {},
   "outputs": [],
   "source": [
    "#EXPLAINING THE ABOVE RESULTS OF SCORES; array([1.  , 1.  , 0.95, 0.95, 1.  ])\n",
    "'''1.0: In the first and Second fold, the model achieved 100% accuracy. \n",
    "This means it correctly predicted all labels in the test set of this fold.'''\n",
    "\n",
    "'''0.95: In the Third and Fourth fold, the model achieved 95% accuracy, \n",
    "meaning it made a small number of incorrect predictions.'''\n",
    "\n",
    "'''1.0: In the fifth fold, the model still achieved 100% accuracy.\n",
    "This means it correctly predicted all labels in the test set of this fold.'''\n"
   ]
  },
  {
   "cell_type": "code",
   "execution_count": 8,
   "metadata": {},
   "outputs": [
    {
     "data": {
      "text/plain": [
       "0.9800000000000001"
      ]
     },
     "execution_count": 8,
     "metadata": {},
     "output_type": "execute_result"
    }
   ],
   "source": [
    "#SUMMARY OF STATISTICS;\n",
    "\n",
    "mean_scores = np.mean(scores)\n",
    "mean_scores"
   ]
  },
  {
   "cell_type": "code",
   "execution_count": 9,
   "metadata": {},
   "outputs": [
    {
     "data": {
      "text/plain": [
       "'The value(0.9800000000000001) indicates 98% accuracy across all folds, representing the overall performance of the model.'"
      ]
     },
     "execution_count": 9,
     "metadata": {},
     "output_type": "execute_result"
    }
   ],
   "source": [
    "#Explaining the results of mean\n",
    "'''The value(0.9800000000000001) indicates 98% accuracy across all folds, representing the overall performance of the model.'''"
   ]
  },
  {
   "cell_type": "code",
   "execution_count": 10,
   "metadata": {},
   "outputs": [
    {
     "data": {
      "text/plain": [
       "0.024494897427831803"
      ]
     },
     "execution_count": 10,
     "metadata": {},
     "output_type": "execute_result"
    }
   ],
   "source": [
    "#STANDARD DEVIATION;\n",
    "\n",
    "std_scores = np.std(scores)\n",
    "std_scores\n"
   ]
  },
  {
   "cell_type": "code",
   "execution_count": 11,
   "metadata": {},
   "outputs": [
    {
     "data": {
      "text/plain": [
       "'The value(0.024494897427831803) indicates 2.4% of how much accuracy varies between folds.\\nA small standard deviation suggests consistent model performance.'"
      ]
     },
     "execution_count": 11,
     "metadata": {},
     "output_type": "execute_result"
    }
   ],
   "source": [
    "#EXPLAINING THE RESULTS OF STANDARD DEVIATION;\n",
    "\n",
    "'''The value(0.024494897427831803) indicates 2.4% of how much accuracy varies between folds.\n",
    "A small standard deviation suggests consistent model performance.'''"
   ]
  },
  {
   "cell_type": "code",
   "execution_count": 12,
   "metadata": {},
   "outputs": [
    {
     "data": {
      "text/plain": [
       "'Evaluation Quality: These scores indicate that the model is likely to generalize well to unseen data.'"
      ]
     },
     "execution_count": 12,
     "metadata": {},
     "output_type": "execute_result"
    }
   ],
   "source": [
    "'''Insights from the Results'''\n",
    "\n",
    "'''High Mean Accuracy (98%): The model performs well on the dataset.'''\n",
    "\n",
    "\n",
    "'''Low Standard Deviation (2.4%): Performance is consistent across folds, \n",
    "meaning the model is not overly sensitive to specific data splits.'''\n",
    "\n",
    "\n",
    "'''Evaluation Quality: These scores indicate that the model is likely to generalize well to unseen data.'''"
   ]
  }
 ],
 "metadata": {
  "kernelspec": {
   "display_name": "myenv",
   "language": "python",
   "name": "python3"
  },
  "language_info": {
   "codemirror_mode": {
    "name": "ipython",
    "version": 3
   },
   "file_extension": ".py",
   "mimetype": "text/x-python",
   "name": "python",
   "nbconvert_exporter": "python",
   "pygments_lexer": "ipython3",
   "version": "3.8.10"
  }
 },
 "nbformat": 4,
 "nbformat_minor": 2
}
